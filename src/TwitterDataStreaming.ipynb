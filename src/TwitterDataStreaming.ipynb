{
 "cells": [
  {
   "cell_type": "code",
   "execution_count": 6,
   "metadata": {},
   "outputs": [],
   "source": [
    "import pykafka\n",
    "import json\n",
    "import tweepy\n",
    "\n",
    "from tweepy import OAuthHandler\n",
    "from tweepy import Stream\n",
    "from tweepy.streaming import StreamListener\n",
    "\n",
    "from kafka import KafkaProducer, KafkaClient"
   ]
  },
  {
   "cell_type": "code",
   "execution_count": 2,
   "metadata": {},
   "outputs": [],
   "source": [
    "consumer_key = \"WpORo4rDAZE7kb65vwZ0tXB1O\"\n",
    "consumer_secret = \"dWrpJ0JtnaDLN1viu1EX6TpYqMVYZ0Yyzqfx63sYCm4ke9dN8m\"\n",
    "access_token = \"2431132616-aiqpCYnWtC2MXtunEVbbuAnuURAyVkP5Fd8aYpz\"\n",
    "access_secret = \"ZzomPzolqRVfgpndq3zpnZQFGW4OV0XgFyLdkawzspcAb\"\n",
    "\n",
    "auth = OAuthHandler(consumer_key, consumer_secret)\n",
    "auth.set_access_token(access_token, access_secret)\n",
    "\n",
    "api = tweepy.API(auth)"
   ]
  },
  {
   "cell_type": "code",
   "execution_count": 4,
   "metadata": {},
   "outputs": [],
   "source": [
    "producer = KafkaProducer(bootstrap_servers='localhost:9092')"
   ]
  },
  {
   "cell_type": "code",
   "execution_count": null,
   "metadata": {},
   "outputs": [],
   "source": [
    "class KafkaPushListener(StreamListener):\n",
    "    def __init__(self):\n",
    "        self.client = pykafka.KafkaClient(\"localhost:9092\")\n",
    "        self.producer = self.client.topics[bytes(\"HateSpeechStream\", \"ascii\")].get_producer()\n",
    "        \n",
    "    def on_data(self, data):\n",
    "        self.producer.produce(bytes(data, \"ascii\"))\n",
    "        return True\n",
    "    \n",
    "    def on_error(self, status):\n",
    "        print(status)\n",
    "        return True\n",
    "\n",
    "twitter_stream = Stream(auth, KafkaPushListener())\n",
    "twitter_stream.filter(track=[\"immigrant\", \"immigration\", \"daca\", \"gay\", \"lesbian\", \"bisexual\", \"bi\", \"transexual\", \"transgender\", \"trans\", \"queer\",\"lgbt\",\"masculine\",\"feminine\",\"white\",\"black\",\"african-american\",\"african\",\"american\",\"mexico\",\"mexican\",\"latino\",\"latina\",\"bitch\",\"god\",\"allah\",\"muslim\",\"hijab\",\"faith\",\"pray\",\"asian\",\"christian\",\"christianity\",\"islam\",\"jew\",\"judaism\",\"hitler\",\"nazi\",\"alt-right\",\"isis\",\"liberal\",\"conservative\",\"cock\",\"clinton\",\"barrack\",\"obama\",\"idiot\",\"trump\",\"donald\",\"melania\",\"congress\",\"right\",\"rights\",\"disaster\",\"love\",\"hate\",\"citizen\",\"gun\",\"shooting\",\"death\",\"rape\",\"culture\",\"disability\",\"genetic\",\"child\",\"jihad\",\"israel\",\"syria\",\"refugee\",\"suicide\",\"arabia\",\"saudi\",\"fuck\",\"fucker\",\"protestant\",\"evangelical\",\"fundamentalist\",\"fundamentalism\",\"extreme\",\"extremist\",\"violence\",\"violent\",\"lincoln\",\"bush\",\"reagan\",\"prostitution\",\"weed\",\"marijuana\",\"opinion\",\"fag\",\"faggot\",\"disgust\",\"disgusting\",\"gross\",\"miss\",\"kidnapped\",\"kill\",\"killed\",\"murder\",\"strangle\",\"stab\",\"stabbing\",\"school\",\"stupid\",\"nigger\",\"brown\",\"war\",\"snowflake\",\"hiv\",\"disease\",\"bacteria\",\"aids\",\"plague\",\"lives\",\"matter\",\"all\",\"interracial\",\"racism\",\"racist\",\"homophobic\",\"heterosexual\",\"homosexual\",\"misogyny\",\"misogynist\",\"sexist\",\"deport\",\"deportation\",\"family\",\"religious\",\"speech\",\"expression\",\"liberty\",\"equal\",\"equality\",\"punish\",\"punishment\",\"make\",\"great\",\"again\",\"supremacist\",\"ass\",\"drug\",\"mental\",\"crazy\",\"jesus\",\"people\",\"color\",\"privilege\",\"revolution\",\"bernie\",\"sanders\",\"aggressive\",\"passive\",\"deserve\",\"christ\",\"prayers\",\"bigot\",\"bigotry\",\"sex\",\"sexual\",\"dumb\",\"retard\",\"retarded\",\"ashamed\",\"shame\",\"nigga\"])"
   ]
  }
 ],
 "metadata": {
  "kernelspec": {
   "display_name": "Python 3",
   "language": "python",
   "name": "python3"
  },
  "language_info": {
   "codemirror_mode": {
    "name": "ipython",
    "version": 3
   },
   "file_extension": ".py",
   "mimetype": "text/x-python",
   "name": "python",
   "nbconvert_exporter": "python",
   "pygments_lexer": "ipython3",
   "version": "3.7.6"
  }
 },
 "nbformat": 4,
 "nbformat_minor": 4
}
