{
 "cells": [
  {
   "cell_type": "markdown",
   "metadata": {},
   "source": [
    "------------------\n",
    "# Indexovanie\n",
    "-------------------------"
   ]
  },
  {
   "cell_type": "code",
   "execution_count": 1,
   "metadata": {},
   "outputs": [],
   "source": [
    "import csv\n",
    "import re\n",
    "import hashlib\n",
    "\n",
    "from nltk.tokenize import TweetTokenizer\n",
    "from string import ascii_lowercase"
   ]
  },
  {
   "cell_type": "code",
   "execution_count": 37,
   "metadata": {},
   "outputs": [],
   "source": [
    "tokenizer = TweetTokenizer()\n",
    "\n",
    "hashtags = []\n",
    "tags = []\n",
    "tweets = []\n",
    "\n",
    "with open('HateTweets.csv', 'r', encoding=\"utf8\") as original:\n",
    "    readCSV = csv.reader(original, delimiter=',')\n",
    "    \n",
    "    for x in readCSV:\n",
    "        hashedTweet = hashlib.md5(x[1].encode()) \n",
    "        tokens = tokenizer.tokenize(x[1])\n",
    "        \n",
    "        for token in tokens:\n",
    "            if(token[0] == '#'):\n",
    "                row = []\n",
    "                row.append(hashedTweet.hexdigest())\n",
    "                row.append(token.lower())\n",
    "                \n",
    "                hashtags.append(row)\n",
    "                \n",
    "            elif (token[0] == '@'):\n",
    "                row = []\n",
    "                row.append(hashedTweet.hexdigest())\n",
    "                row.append(token.lower())\n",
    "                \n",
    "                tags.append(row)\n",
    "            \n",
    "        row = []\n",
    "        row.append(hashedTweet.hexdigest())\n",
    "        row.append(x[1])\n",
    "            \n",
    "        tweets.append(row)\n"
   ]
  },
  {
   "cell_type": "code",
   "execution_count": 38,
   "metadata": {},
   "outputs": [],
   "source": [
    "def findTweet(x):\n",
    "    for i in tweets:\n",
    "        if(i[0] == x): return i[1]"
   ]
  },
  {
   "cell_type": "code",
   "execution_count": 49,
   "metadata": {},
   "outputs": [],
   "source": [
    "def search(userInput):\n",
    "    \n",
    "    userInput = userInput.lower()\n",
    "    \n",
    "    if(userInput[0] == '#'):\n",
    "        for i in hashtags:\n",
    "            if(i[1] == userInput):\n",
    "                print(\"[Tweet]: \" + findTweet(i[0]))\n",
    "    elif(userInput[0] == '@'):\n",
    "        for i in tags:\n",
    "            if(i[1] == userInput):\n",
    "                print(\"[Tweet]: \" + findTweet(i[0]))"
   ]
  },
  {
   "cell_type": "code",
   "execution_count": 50,
   "metadata": {
    "scrolled": true
   },
   "outputs": [
    {
     "name": "stdout",
     "output_type": "stream",
     "text": [
      "[Tweet]: You know what I can’t wait for? The trump supporters to have kids... those kids grow up and in school they learn how @realDonaldTrump was one of thee worst Presidents in the US. They then come home to tell their stupid parents who still are rocking the MAGA hat how dumb they are\n",
      "[Tweet]: @realDonaldTrump @BreitbartNews Shut up and get the hell out of our house. We're sick to death of your lies and inability to act like an adult with a brain.\n",
      "[Tweet]: @Jason_n_Nascar @OldIsthmian @realDonaldTrump What you are describing is called a frivolous lawsuit. You don’t burn court hours and people’s time while you look for proof of what you claim. You show up with evidence or you get the fuck out. Uneducated idiots are all he’s got left apparently\n",
      "[Tweet]: @ClemencyForRoss @realDonaldTrump @RealRossU Monster like you deserves the DP tbh.  Your parents are dumb af also.\n",
      "[Tweet]: @realDonaldTrump You’re going on your third week of crying. Shut the fuck up already, you stupid fucking child.\n",
      "[Tweet]: @Jermain88081467 @realDonaldTrump No gods have ever existed. Your god doesn't exist. Trump is a lying, cheating scumbag. You're a gullible twat.\n",
      "[Tweet]: @DonMacheAponte @sanaonline__ @realDonaldTrump He is scared to leave he has nothing he will be going to jail. We in Canada all hope. He should be charged with murder and or genocide going golfing during world worst pandemic come on no president in history would do that.\n",
      "[Tweet]: @Goss30Goss What an absolute piece of shit this guy will be til his last gasp of power and his last breath on this earth. Fuck you, @realDonaldTrump.\n",
      "[Tweet]: @Dotocon @realDonaldTrump People die by the thousands everyday. You’re an idiot, sheep\n",
      "[Tweet]: @realDonaldTrump Even IF that shit is true (which I doubt), assuming it happened 160,000 times in one state alone is pretty fucking stupid. Most people are smart enough to fill out a ballot. And at worst it would reject maybe 10k votes? That means Biden STILL won and you're still a fool.\n",
      "[Tweet]: @Smarttt_ @realDonaldTrump Now Joe, I have enough regard to not call you names. I guess your hatred has taken control of your brain &amp; brainwashed you into supporting a racist, do nothing idiot who cannot bend over to tie his shoes. Too obese.\n",
      "[Tweet]: @MaharaTucker @BGavathas @realDonaldTrump @JimInhofe Ok karen #DiaperDonald  your dictator lost the election. Go fuck off to your racist shit hole. K thx loser\n",
      "[Tweet]: @realDonaldTrump Your incompetence has killed over 274,000 Americans and all you do is rage tweet.  You’re a loser.  You know it; your father knew it.  Lies catch up to you.\n",
      "[Tweet]: @goodwindaniel78 @mmpadellan @realDonaldTrump Make sure you send your paycheck to the cause idiot! There is no white utopia magat!\n",
      "[Tweet]: @fakekate3 @AnnEthridge3 @Iamconfused9 @realDonaldTrump It's wrapping your whole world view, character, and personality around a man who is a loser. Their brains can't accept that the person who defines them is a loser because that makes them losers (which they are). There are no limits to the mental gymnastics and denial.\n",
      "[Tweet]: @_malanaya @JMareeG @realDonaldTrump Get your head outta the sand . Smarten the fuck up . Why do you think he’s losing every case that goes before a judge ? Because there was no corruption. You people are exhausting\n",
      "[Tweet]: @realDonaldTrump Is this all you have to say, when thousands and thousands of Americans are dying and you just don’t give a shit, all about me you narcissist idiot!\n",
      "[Tweet]: @seanhannity WTF is wrong with you? You supported Trump’s rhetoric about coronavirus and look where we are today?  You’re supporting Giuliani’s major grift for @realDonaldTrump.  WTF is wrong with you?  Are you going to get a pardon too for your lies that killed people?  WTF!\n",
      "[Tweet]: @realDonaldTrump @OANN Hey @realDonaldTrump this tweet is proof that you are a loser and an idiot!\n",
      "[Tweet]: @realDonaldTrump @OANN Hey @realDonaldTrump this tweet is proof that you are a loser and an idiot!\n",
      "[Tweet]: @realDonaldTrump Just what this country needs you to kill a few more people. You’re horrible!\n",
      "[Tweet]: @realDonaldTrump @JimInhofe Trump, a self-absorbed psychopath that has only 47 days of fuck-ups remaining. Record setting deaths and new cases. Employment in the crapper (today reported about half of expectations) and all #Nero does is tweet out bullshit while watching @OANN #MadKingGeorge\n",
      "[Tweet]: @realDonaldTrump Because of you, Republican and Democrat officials are receiving death threats. You continue to inspire your cult with violence. You're a traitor and your #MAGA dream is to destroy America. \n",
      "January 20th at 12:00pm tic toc ⏰\n",
      "[Tweet]: @PeachyKeen995 @greenhousenyt @realDonaldTrump Viruses dont kill because they're viruses...\n",
      "Viruses run through humanity EVERY YEAR and they're just as benign as the China virus\n",
      "[Tweet]: @realDonaldTrump Keep saying this stupid claim with zero proof. Meanwhile we have a 9/11 amount of Americans die daily and you do nothing. LOSER\n",
      "[Tweet]: @JeffreyGuterman @realDonaldTrump @OANN 🤣🤣🤣  We have receipts... dick... You don't think that Trump knew about the election fraud?? How the fuck do you think he was elected in 2016??? It was rigged then and he beat it... you're a joke... go away.\n",
      "[Tweet]: @realDonaldTrump @OANN You have got to be the biggest idiot in the history of humanity. In the dictionary under you suck it says see Donald Trump\n",
      "[Tweet]: @realDonaldTrump You want to mine in national parks, you fuck with the EPA constantly, YOU LEGALIZED HIBERNATION HUNTING!! You don't give a fuck about the environment, our national parks, or our country. Go fuck yourself you selfish power hungry narcissist.\n",
      "[Tweet]: @realDonaldTrump You bloody selfish asshole ! Haven’t you caused enough death &amp; misery ? 🤬🤬\n",
      "[Tweet]: @MommaLizzyy @konzowaise1 @imjdsharp @realDonaldTrump @KLoeffler @sendavidperdue @BrianKempGA You are an absolute idiot. Where is the evidence that any if this will happen? I swear you Trump cultists just make shit up as you go just like your dumb ass cult leader\n",
      "[Tweet]: @realDonaldTrump Shut up, stupid idiot\n",
      "[Tweet]: @Mike_Pence @WhiteHouse @realDonaldTrump That’s because you opened everything up during a pandemic risking American lives instead of giving out money for people to survive. You are a fucking idiot.\n",
      "[Tweet]: @realDonaldTrump Stfu already u fukin stupid ass get over it nobody likes you exept the stupid idiots that follow u\n",
      "[Tweet]: @I_Assure_You @Kenny_Sowellfan @realDonaldTrump @KLoeffler @sendavidperdue @BrianKempGA Precious from someone who doesn't care about the Thousands of Americans who die everyday.\n",
      "[Tweet]: @kris0649 @bosoxmug @Bethanynacc @realDonaldTrump @OANN Hitler order his followers to hunt down and murder millions of people inside of their homes.\n",
      "\n",
      "Trump hasn’t ordered anyone to murder. \n",
      "\n",
      "Show some respect for the millions of families who died in the holocaust. https://t.co/fyUsYNtQX9\n",
      "[Tweet]: @CdnVery @NoRagsNow @Itz__Atul @julie_kelly2 @realDonaldTrump Interesting that they are the more educated group. Where do these people get these trash memes from anyway? You look like a fucking idiot posting these, like Facebook moms posting minion memes\n",
      "[Tweet]: @realDonaldTrump More lies. You don't have all of us brainwashed 80 million of us know you do nothing but lie the rest are just idiots. Take a seat you wannabe Hitler.\n",
      "[Tweet]: @real_defender @realDonaldTrump @OANN The more you #MAGA idiots keep this up the funnier it actually is. More Rallies = more Q deaths. Also please donate to Fat Hitler all you can. I love broke ass @GOP voters giving their cash to a shit pile to pay off his debts. How much have you given to broke ass #OneTerm?\n",
      "[Tweet]: @realDonaldTrump @OANN Excuse me? USPS is run by Louis DeJoy, a long time Trump supporter with ties to private delivery companies. He’s been actively trying to destroy USPS from the inside and worked to intentionally hinder the processing of mail in ballots...\n",
      "\n",
      "You’re a fucking idiot, Donnie\n",
      "[Tweet]: @skjava @Dirtwayne1 @greenhousenyt @realDonaldTrump Oh yes I do, I know exactly what is going on with COVID and the deaths, you’re just blinded by the shit in your eyes, people die every year, year on year, if you can’t be polite then fuck off commenting like you know what your talking about\n",
      "[Tweet]: @ZPoet @realDonaldTrump @KLoeffler @sendavidperdue @BrianKempGA Lol  stupid do you know Hugo Chavez die 2013 I swear y’all trumpers are stupid losers\n",
      "[Tweet]: @Metamrphos_Rox @realDonaldTrump What's better, is that if it's removed, all of those hate mongering on Parler will be in for a shock, too lol.\n",
      "[Tweet]: @TulsiGabbard @realDonaldTrump Indeed. Repeal 230. Make businesses responsible yet again for content posted by others. Watch how swiftly conservative yaks find their hate speech and violent fantasies get shut down. No more disinformation to get spread.\n",
      "[Tweet]: @294thMPCo @CenturyLink2Slo @realDonaldTrump Why are you talking shit about Germans you murrican cunt\n",
      "[Tweet]: @kittiehasspoken @singaborn @realDonaldTrump Stop showing your ignorance.  Some of us had enough courage to serve in the US military to protect the rights of idiots just like you to criticize others.\n",
      "[Tweet]: @atothej428 @GrahamAllen_1 @realDonaldTrump please explain to me how im a racist lol? Your a fucking idiot a singer farther of two I can see why your woman left your sorry ass. You sound brain dead and wanting to let your children live in a world joe Biden as your president that copes children good job my man ..moron\n",
      "[Tweet]: @realDonaldTrump The country does not want you you little cunt!\n"
     ]
    }
   ],
   "source": [
    "search(\"@realDonaldTrump\")"
   ]
  },
  {
   "cell_type": "markdown",
   "metadata": {},
   "source": [
    "--------------------\n",
    "# Frekvenčná analýza\n",
    "--------------"
   ]
  },
  {
   "cell_type": "code",
   "execution_count": 15,
   "metadata": {},
   "outputs": [],
   "source": [
    "import csv\n",
    "import emoji\n",
    "import re\n",
    "\n",
    "import nltk\n",
    "from nltk.tokenize import TweetTokenizer\n",
    "from nltk.corpus import stopwords\n",
    "from nltk.corpus import wordnet\n",
    "from nltk.stem import WordNetLemmatizer\n",
    "\n",
    "from string import ascii_lowercase\n",
    "from collections import Counter"
   ]
  },
  {
   "cell_type": "code",
   "execution_count": 16,
   "metadata": {},
   "outputs": [],
   "source": [
    "def isAlpha(str):\n",
    "    regex = \"^(?=.*[a-zA-Z])[A-Za-z]+$\"\n",
    "    p = re.compile(regex)\n",
    "    \n",
    "    if(str == None):\n",
    "        return False\n",
    "\n",
    "    if(re.search(p, str)):\n",
    "        return True\n",
    "    else:\n",
    "        return False"
   ]
  },
  {
   "cell_type": "code",
   "execution_count": 17,
   "metadata": {},
   "outputs": [],
   "source": [
    "def clean(word):\n",
    "    word = re.sub(r'^#', '', word)\n",
    "    \n",
    "    try:\n",
    "        if(word[0] == '@' or not isAlpha(word)): \n",
    "            return False\n",
    "    except:\n",
    "        return False\n",
    "\n",
    "    return word.lower()"
   ]
  },
  {
   "cell_type": "code",
   "execution_count": 18,
   "metadata": {},
   "outputs": [],
   "source": [
    "def char_is_emoji(character):\n",
    "    return character in emoji.UNICODE_EMOJI"
   ]
  },
  {
   "cell_type": "code",
   "execution_count": 29,
   "metadata": {},
   "outputs": [],
   "source": [
    "tokenizer = TweetTokenizer()\n",
    "\n",
    "tokenList = []\n",
    "emojiList = []\n",
    "\n",
    "stop_words = set(stopwords.words('english'))\n",
    "extended_stops = {\"ya\", \"yo\", \"yu\", \"da\", \"em\", \"im\", \"theres\", \"dat\", \"dats\", \"aint\", \"thats\", \"doe\", \"ur\"}\n",
    "\n",
    "with open('HateTweets.csv', 'r', encoding=\"utf8\") as original:\n",
    "    readCSV = csv.reader(original, delimiter=',')\n",
    "    \n",
    "    for x in readCSV:\n",
    "        tokens = tokenizer.tokenize(x[1])\n",
    "\n",
    "        for token in tokens:\n",
    "            if(char_is_emoji(token)):\n",
    "                emojiList.append(token)\n",
    "            else:\n",
    "                if(clean(token)):\n",
    "                    token = clean(token)\n",
    "                    if(token not in stop_words and token not in extended_stops and len(token) > 2):\n",
    "                        tokenList.append(token)\n",
    "    "
   ]
  },
  {
   "cell_type": "code",
   "execution_count": 24,
   "metadata": {},
   "outputs": [],
   "source": [
    "def get_wordnet_pos(word):\n",
    "    tag = nltk.pos_tag([word])[0][1][0].upper()\n",
    "    if tag.startswith('J'):\n",
    "        return wordnet.ADJ\n",
    "    elif tag.startswith('S'):\n",
    "        return wordnet.ADJ_SAT\n",
    "    elif tag.startswith('V'):\n",
    "        return wordnet.VERB\n",
    "    elif tag.startswith('N'):\n",
    "        return wordnet.NOUN\n",
    "    elif tag.startswith('R'):\n",
    "        return wordnet.ADV\n",
    "    else:\n",
    "        return wordnet.NOUN"
   ]
  },
  {
   "cell_type": "code",
   "execution_count": 25,
   "metadata": {},
   "outputs": [],
   "source": [
    "tokenListLemma = []\n",
    "lemmatizer = WordNetLemmatizer()\n",
    "\n",
    "for word in tokenList:\n",
    "    word = lemmatizer.lemmatize(word, get_wordnet_pos(word))\n",
    "    tokenListLemma.append(word)"
   ]
  },
  {
   "cell_type": "code",
   "execution_count": 30,
   "metadata": {
    "scrolled": true
   },
   "outputs": [
    {
     "name": "stdout",
     "output_type": "stream",
     "text": [
      "{'😂': 49, '😭': 40, '🤣': 20, '🏻': 16, '👇': 13, '🏾': 10, '‼': 9, '🤦': 7, '😎': 7, '🥰': 7, '♀': 6, '🙏': 6, '💀': 6, '😡': 6, '♂': 5, '😤': 5, '🙄': 5, '💖': 5, '😩': 4, '🤷': 4, '🥺': 4, '✨': 4, '🥵': 4, '🤬': 4, '🙈': 3, '💯': 3, '😒': 3, '❣': 3, '😪': 3, '🇺': 3, '🇸': 3, '🇬': 2, '🇧': 2, '💩': 2, '💪': 2, '🏽': 2, '🥴': 2, '👌': 2, '😱': 2, '😆': 2, '\\U0001f9cd': 1, '🍾': 1, '😅': 1, '😈': 1, '😑': 1, '😠': 1, '✅': 1, '😉': 1, '✌': 1, '😢': 1, '💁': 1, '🤪': 1, '😕': 1, '🗣': 1, '😏': 1, '🌕': 1, '🌞': 1, '🤴': 1, '⏰': 1, '💔': 1, '🤯': 1, '🍆': 1, '💕': 1, '😁': 1, '☑': 1, '😐': 1, '🏿': 1, '🤝': 1, '🦍': 1, '🤞': 1, '☪': 1, '🎬': 1, '🎥': 1, '🏴': 1, '🙃': 1, '🤡': 1, '💜': 1, '😘': 1, '👋': 1, '🖕': 1, '🏼': 1, '😟': 1, '🔒': 1, '\\U0001f971': 1, '😣': 1}\n",
      "\n",
      "[('fuck', 355), ('people', 114), ('get', 80), ('kill', 79), ('like', 66), ('dumb', 63), ('stupid', 62), ('think', 61), ('say', 50), ('want', 50), ('death', 47), ('make', 46), ('nigga', 42), ('one', 39), ('time', 37), ('would', 37), ('bitch', 36), ('know', 35), ('as', 32), ('shit', 31), ('take', 31), ('gay', 28), ('see', 28), ('go', 28), ('bad', 27), ('idiot', 26), ('come', 25), ('white', 25), ('look', 24), ('even', 24), ('hate', 24), ('stop', 23), ('really', 22), ('give', 22), ('die', 22), ('trump', 21), ('thing', 21), ('act', 21), ('money', 21), ('call', 21), ('feel', 21), ('something', 20), ('disgust', 20), ('back', 20), ('country', 20), ('big', 20), ('tell', 19), ('someone', 19), ('way', 19), ('racist', 18), ('person', 18), ('year', 18), ('try', 17), ('black', 17), ('use', 17), ('work', 17), ('also', 17), ('gonna', 16), ('murder', 16), ('day', 16)]\n"
     ]
    }
   ],
   "source": [
    "emojiFrequency = {}\n",
    "emojiFrequency = dict(Counter(emojiList))\n",
    "emojiFrequency = dict(sorted(emojiFrequency.items(), key=lambda item: item[1], reverse = True))\n",
    "print(emojiFrequency)\n",
    "\n",
    "print()\n",
    "\n",
    "wordFrequency = {}\n",
    "wordFrequency = dict(Counter(tokenListLemma))\n",
    "wordFrequency = dict(sorted(wordFrequency.items(), key=lambda item: item[1], reverse = True))\n",
    "\n",
    "wordFrequency_items = wordFrequency.items()\n",
    "firstN_items = list(wordFrequency_items)[:60]\n",
    "\n",
    "print(firstN_items)"
   ]
  },
  {
   "cell_type": "code",
   "execution_count": 31,
   "metadata": {},
   "outputs": [],
   "source": [
    "from wordcloud import WordCloud \n",
    "from PIL import Image\n",
    "import matplotlib.pyplot as plt"
   ]
  },
  {
   "cell_type": "code",
   "execution_count": 32,
   "metadata": {},
   "outputs": [
    {
     "data": {
      "text/plain": [
       "<matplotlib.image.AxesImage at 0x183b96ba1c8>"
      ]
     },
     "execution_count": 32,
     "metadata": {},
     "output_type": "execute_result"
    },
    {
     "data": {
      "image/png": "[encoded data removed]",
      "text/plain": [
       "<Figure size 432x288 with 1 Axes>"
      ]
     },
     "metadata": {
      "needs_background": "light"
     },
     "output_type": "display_data"
    }
   ],
   "source": [
    "wc = WordCloud(background_color=\"white\",width=800,height=400, max_words=60,relative_scaling=0.5,normalize_plurals=False).generate_from_frequencies(wordFrequency)\n",
    "plt.axis(\"off\")\n",
    "plt.imshow(wc)"
   ]
  }
 ],
 "metadata": {
  "kernelspec": {
   "display_name": "Python 3",
   "language": "python",
   "name": "python3"
  },
  "language_info": {
   "codemirror_mode": {
    "name": "ipython",
    "version": 3
   },
   "file_extension": ".py",
   "mimetype": "text/x-python",
   "name": "python",
   "nbconvert_exporter": "python",
   "pygments_lexer": "ipython3",
   "version": "3.7.6"
  }
 },
 "nbformat": 4,
 "nbformat_minor": 4
}
